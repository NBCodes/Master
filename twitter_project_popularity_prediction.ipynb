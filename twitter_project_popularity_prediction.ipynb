{
 "cells": [
  {
   "cell_type": "markdown",
   "metadata": {},
   "source": [
    "# Librerías"
   ]
  },
  {
   "cell_type": "code",
   "execution_count": 77,
   "metadata": {},
   "outputs": [],
   "source": [
    "from pathlib import Path\n",
    "\n",
    "import matplotlib.pyplot as plt\n",
    "import numpy as np\n",
    "\n",
    "import pandas as pd\n",
    "import plotnine as pn\n",
    "\n",
    "import seaborn as sns\n",
    "\n",
    "from tabulate import tabulate\n",
    "from keras.models import Sequential\n",
    "from keras.layers import  Dense\n",
    "from sklearn.model_selection import train_test_split\n",
    "\n",
    "from sklearn.metrics import roc_auc_score\n",
    "from sklearn import  metrics\n",
    "\n",
    "from sklearn.linear_model import LogisticRegression"
   ]
  },
  {
   "cell_type": "markdown",
   "metadata": {},
   "source": [
    "# Funciones"
   ]
  },
  {
   "cell_type": "code",
   "execution_count": 78,
   "metadata": {},
   "outputs": [],
   "source": [
    "def count0(df):\n",
    "    for column_name in df.columns:\n",
    "        column = df[column_name]\n",
    "        count = (column == 0).sum()\n",
    "        print('Columna:', column_name, ' : ', count)"
   ]
  },
  {
   "cell_type": "markdown",
   "metadata": {},
   "source": [
    "# Carga Datos"
   ]
  },
  {
   "cell_type": "code",
   "execution_count": 79,
   "metadata": {},
   "outputs": [
    {
     "name": "stderr",
     "output_type": "stream",
     "text": [
      "C:\\Users\\hecto\\AppData\\Local\\Temp\\ipykernel_3440\\959839806.py:7: DtypeWarning: Columns (5) have mixed types. Specify dtype option on import or set low_memory=False.\n"
     ]
    }
   ],
   "source": [
    "data_loc = Path('1-descarga-datos/')\n",
    "handles_file = data_loc / '2021-08-11-handles-data.csv'\n",
    "tweet_file = data_loc / '2021-08-11-2021-08-12-2021-08-19-tweets-data.csv'\n",
    "\n",
    "pd.set_option('display.max_columns', 500)\n",
    "\n",
    "tweets_data = pd.read_csv(tweet_file)\n",
    "\n",
    "twitter_users = pd.read_csv(handles_file)\n",
    "\n",
    "frames = [twitter_users, tweets_data]\n",
    "df_c = tweets_data.merge(twitter_users, left_on='user_id', right_on='id')\n",
    "df_c.dropna(how='all', axis=1, inplace=True)"
   ]
  },
  {
   "cell_type": "markdown",
   "metadata": {},
   "source": [
    "# Selección columnas"
   ]
  },
  {
   "cell_type": "code",
   "execution_count": 81,
   "metadata": {},
   "outputs": [
    {
     "data": {
      "text/html": [
       "<div>\n",
       "<style scoped>\n",
       "    .dataframe tbody tr th:only-of-type {\n",
       "        vertical-align: middle;\n",
       "    }\n",
       "\n",
       "    .dataframe tbody tr th {\n",
       "        vertical-align: top;\n",
       "    }\n",
       "\n",
       "    .dataframe thead th {\n",
       "        text-align: right;\n",
       "    }\n",
       "</style>\n",
       "<table border=\"1\" class=\"dataframe\">\n",
       "  <thead>\n",
       "    <tr style=\"text-align: right;\">\n",
       "      <th></th>\n",
       "      <th>Tweets</th>\n",
       "      <th>Media</th>\n",
       "      <th>Followers</th>\n",
       "      <th>Following</th>\n",
       "      <th>nlikes</th>\n",
       "      <th>nretweets</th>\n",
       "      <th>language</th>\n",
       "      <th>Image</th>\n",
       "      <th>Video</th>\n",
       "    </tr>\n",
       "  </thead>\n",
       "  <tbody>\n",
       "    <tr>\n",
       "      <th>0</th>\n",
       "      <td>1770</td>\n",
       "      <td>461</td>\n",
       "      <td>20854298</td>\n",
       "      <td>16</td>\n",
       "      <td>0</td>\n",
       "      <td>232</td>\n",
       "      <td>en</td>\n",
       "      <td>0</td>\n",
       "      <td>0</td>\n",
       "    </tr>\n",
       "    <tr>\n",
       "      <th>1</th>\n",
       "      <td>11420</td>\n",
       "      <td>2170</td>\n",
       "      <td>108819032</td>\n",
       "      <td>235</td>\n",
       "      <td>5266</td>\n",
       "      <td>408</td>\n",
       "      <td>en</td>\n",
       "      <td>1</td>\n",
       "      <td>1</td>\n",
       "    </tr>\n",
       "    <tr>\n",
       "      <th>2</th>\n",
       "      <td>11420</td>\n",
       "      <td>2170</td>\n",
       "      <td>108819032</td>\n",
       "      <td>235</td>\n",
       "      <td>0</td>\n",
       "      <td>764</td>\n",
       "      <td>en</td>\n",
       "      <td>0</td>\n",
       "      <td>0</td>\n",
       "    </tr>\n",
       "    <tr>\n",
       "      <th>3</th>\n",
       "      <td>11420</td>\n",
       "      <td>2170</td>\n",
       "      <td>108819032</td>\n",
       "      <td>235</td>\n",
       "      <td>5638</td>\n",
       "      <td>438</td>\n",
       "      <td>en</td>\n",
       "      <td>0</td>\n",
       "      <td>0</td>\n",
       "    </tr>\n",
       "    <tr>\n",
       "      <th>4</th>\n",
       "      <td>11420</td>\n",
       "      <td>2170</td>\n",
       "      <td>108819032</td>\n",
       "      <td>235</td>\n",
       "      <td>8810</td>\n",
       "      <td>1211</td>\n",
       "      <td>en</td>\n",
       "      <td>0</td>\n",
       "      <td>0</td>\n",
       "    </tr>\n",
       "  </tbody>\n",
       "</table>\n",
       "</div>"
      ],
      "text/plain": [
       "   Tweets  Media  Followers  Following  nlikes  nretweets language  Image  \\\n",
       "0    1770    461   20854298         16       0        232       en      0   \n",
       "1   11420   2170  108819032        235    5266        408       en      1   \n",
       "2   11420   2170  108819032        235       0        764       en      0   \n",
       "3   11420   2170  108819032        235    5638        438       en      0   \n",
       "4   11420   2170  108819032        235    8810       1211       en      0   \n",
       "\n",
       "   Video  \n",
       "0      0  \n",
       "1      1  \n",
       "2      0  \n",
       "3      0  \n",
       "4      0  "
      ]
     },
     "execution_count": 81,
     "metadata": {},
     "output_type": "execute_result"
    }
   ],
   "source": [
    "\n",
    "df2 = pd.DataFrame({\n",
    "    'Tweets' : df_c['tweets'],\n",
    "    'Media' : df_c['media'],\n",
    "    'Followers' : df_c['followers'],\n",
    "    'Following' : df_c['following'],\n",
    "    'nlikes' : df_c['nlikes'],\n",
    "    'nretweets' : df_c['nretweets'],\n",
    "    'language' : df_c['language'],\n",
    "    'Image' : df_c['photos'].map(lambda x : 1 if x != '[]' else 0),\n",
    "    'Video' : df_c['video']\n",
    "})\n",
    "df2.head()"
   ]
  },
  {
   "cell_type": "markdown",
   "metadata": {},
   "source": [
    "# Transformar columnas"
   ]
  },
  {
   "cell_type": "code",
   "execution_count": 82,
   "metadata": {},
   "outputs": [
    {
     "name": "stderr",
     "output_type": "stream",
     "text": [
      "c:\\Users\\hecto\\anaconda3\\lib\\site-packages\\sklearn\\utils\\deprecation.py:87: FutureWarning: Function get_feature_names is deprecated; get_feature_names is deprecated in 1.0 and will be removed in 1.2. Please use get_feature_names_out instead.\n"
     ]
    },
    {
     "data": {
      "text/html": [
       "<div>\n",
       "<style scoped>\n",
       "    .dataframe tbody tr th:only-of-type {\n",
       "        vertical-align: middle;\n",
       "    }\n",
       "\n",
       "    .dataframe tbody tr th {\n",
       "        vertical-align: top;\n",
       "    }\n",
       "\n",
       "    .dataframe thead th {\n",
       "        text-align: right;\n",
       "    }\n",
       "</style>\n",
       "<table border=\"1\" class=\"dataframe\">\n",
       "  <thead>\n",
       "    <tr style=\"text-align: right;\">\n",
       "      <th></th>\n",
       "      <th>Tweets</th>\n",
       "      <th>Media</th>\n",
       "      <th>Followers</th>\n",
       "      <th>Following</th>\n",
       "      <th>nlikes</th>\n",
       "      <th>nretweets</th>\n",
       "      <th>Image</th>\n",
       "      <th>Video</th>\n",
       "      <th>language_ar</th>\n",
       "      <th>language_ca</th>\n",
       "      <th>language_cs</th>\n",
       "      <th>language_cy</th>\n",
       "      <th>language_da</th>\n",
       "      <th>language_de</th>\n",
       "      <th>language_en</th>\n",
       "      <th>language_es</th>\n",
       "      <th>language_et</th>\n",
       "      <th>language_eu</th>\n",
       "      <th>language_fa</th>\n",
       "      <th>language_fi</th>\n",
       "      <th>language_fr</th>\n",
       "      <th>language_hi</th>\n",
       "      <th>language_ht</th>\n",
       "      <th>language_hu</th>\n",
       "      <th>language_in</th>\n",
       "      <th>language_is</th>\n",
       "      <th>language_it</th>\n",
       "      <th>language_iw</th>\n",
       "      <th>language_ja</th>\n",
       "      <th>language_ko</th>\n",
       "      <th>language_lt</th>\n",
       "      <th>language_lv</th>\n",
       "      <th>language_mr</th>\n",
       "      <th>language_nl</th>\n",
       "      <th>language_no</th>\n",
       "      <th>language_pl</th>\n",
       "      <th>language_pt</th>\n",
       "      <th>language_ro</th>\n",
       "      <th>language_ru</th>\n",
       "      <th>language_sv</th>\n",
       "      <th>language_ta</th>\n",
       "      <th>language_th</th>\n",
       "      <th>language_tl</th>\n",
       "      <th>language_tr</th>\n",
       "      <th>language_und</th>\n",
       "      <th>language_ur</th>\n",
       "      <th>language_vi</th>\n",
       "      <th>language_zh</th>\n",
       "    </tr>\n",
       "  </thead>\n",
       "  <tbody>\n",
       "    <tr>\n",
       "      <th>0</th>\n",
       "      <td>1770</td>\n",
       "      <td>461</td>\n",
       "      <td>20854298</td>\n",
       "      <td>16</td>\n",
       "      <td>0</td>\n",
       "      <td>232</td>\n",
       "      <td>0</td>\n",
       "      <td>0</td>\n",
       "      <td>0.0</td>\n",
       "      <td>0.0</td>\n",
       "      <td>0.0</td>\n",
       "      <td>0.0</td>\n",
       "      <td>0.0</td>\n",
       "      <td>0.0</td>\n",
       "      <td>1.0</td>\n",
       "      <td>0.0</td>\n",
       "      <td>0.0</td>\n",
       "      <td>0.0</td>\n",
       "      <td>0.0</td>\n",
       "      <td>0.0</td>\n",
       "      <td>0.0</td>\n",
       "      <td>0.0</td>\n",
       "      <td>0.0</td>\n",
       "      <td>0.0</td>\n",
       "      <td>0.0</td>\n",
       "      <td>0.0</td>\n",
       "      <td>0.0</td>\n",
       "      <td>0.0</td>\n",
       "      <td>0.0</td>\n",
       "      <td>0.0</td>\n",
       "      <td>0.0</td>\n",
       "      <td>0.0</td>\n",
       "      <td>0.0</td>\n",
       "      <td>0.0</td>\n",
       "      <td>0.0</td>\n",
       "      <td>0.0</td>\n",
       "      <td>0.0</td>\n",
       "      <td>0.0</td>\n",
       "      <td>0.0</td>\n",
       "      <td>0.0</td>\n",
       "      <td>0.0</td>\n",
       "      <td>0.0</td>\n",
       "      <td>0.0</td>\n",
       "      <td>0.0</td>\n",
       "      <td>0.0</td>\n",
       "      <td>0.0</td>\n",
       "      <td>0.0</td>\n",
       "      <td>0.0</td>\n",
       "    </tr>\n",
       "    <tr>\n",
       "      <th>1</th>\n",
       "      <td>11420</td>\n",
       "      <td>2170</td>\n",
       "      <td>108819032</td>\n",
       "      <td>235</td>\n",
       "      <td>5266</td>\n",
       "      <td>408</td>\n",
       "      <td>1</td>\n",
       "      <td>1</td>\n",
       "      <td>0.0</td>\n",
       "      <td>0.0</td>\n",
       "      <td>0.0</td>\n",
       "      <td>0.0</td>\n",
       "      <td>0.0</td>\n",
       "      <td>0.0</td>\n",
       "      <td>1.0</td>\n",
       "      <td>0.0</td>\n",
       "      <td>0.0</td>\n",
       "      <td>0.0</td>\n",
       "      <td>0.0</td>\n",
       "      <td>0.0</td>\n",
       "      <td>0.0</td>\n",
       "      <td>0.0</td>\n",
       "      <td>0.0</td>\n",
       "      <td>0.0</td>\n",
       "      <td>0.0</td>\n",
       "      <td>0.0</td>\n",
       "      <td>0.0</td>\n",
       "      <td>0.0</td>\n",
       "      <td>0.0</td>\n",
       "      <td>0.0</td>\n",
       "      <td>0.0</td>\n",
       "      <td>0.0</td>\n",
       "      <td>0.0</td>\n",
       "      <td>0.0</td>\n",
       "      <td>0.0</td>\n",
       "      <td>0.0</td>\n",
       "      <td>0.0</td>\n",
       "      <td>0.0</td>\n",
       "      <td>0.0</td>\n",
       "      <td>0.0</td>\n",
       "      <td>0.0</td>\n",
       "      <td>0.0</td>\n",
       "      <td>0.0</td>\n",
       "      <td>0.0</td>\n",
       "      <td>0.0</td>\n",
       "      <td>0.0</td>\n",
       "      <td>0.0</td>\n",
       "      <td>0.0</td>\n",
       "    </tr>\n",
       "    <tr>\n",
       "      <th>2</th>\n",
       "      <td>11420</td>\n",
       "      <td>2170</td>\n",
       "      <td>108819032</td>\n",
       "      <td>235</td>\n",
       "      <td>0</td>\n",
       "      <td>764</td>\n",
       "      <td>0</td>\n",
       "      <td>0</td>\n",
       "      <td>0.0</td>\n",
       "      <td>0.0</td>\n",
       "      <td>0.0</td>\n",
       "      <td>0.0</td>\n",
       "      <td>0.0</td>\n",
       "      <td>0.0</td>\n",
       "      <td>1.0</td>\n",
       "      <td>0.0</td>\n",
       "      <td>0.0</td>\n",
       "      <td>0.0</td>\n",
       "      <td>0.0</td>\n",
       "      <td>0.0</td>\n",
       "      <td>0.0</td>\n",
       "      <td>0.0</td>\n",
       "      <td>0.0</td>\n",
       "      <td>0.0</td>\n",
       "      <td>0.0</td>\n",
       "      <td>0.0</td>\n",
       "      <td>0.0</td>\n",
       "      <td>0.0</td>\n",
       "      <td>0.0</td>\n",
       "      <td>0.0</td>\n",
       "      <td>0.0</td>\n",
       "      <td>0.0</td>\n",
       "      <td>0.0</td>\n",
       "      <td>0.0</td>\n",
       "      <td>0.0</td>\n",
       "      <td>0.0</td>\n",
       "      <td>0.0</td>\n",
       "      <td>0.0</td>\n",
       "      <td>0.0</td>\n",
       "      <td>0.0</td>\n",
       "      <td>0.0</td>\n",
       "      <td>0.0</td>\n",
       "      <td>0.0</td>\n",
       "      <td>0.0</td>\n",
       "      <td>0.0</td>\n",
       "      <td>0.0</td>\n",
       "      <td>0.0</td>\n",
       "      <td>0.0</td>\n",
       "    </tr>\n",
       "    <tr>\n",
       "      <th>3</th>\n",
       "      <td>11420</td>\n",
       "      <td>2170</td>\n",
       "      <td>108819032</td>\n",
       "      <td>235</td>\n",
       "      <td>5638</td>\n",
       "      <td>438</td>\n",
       "      <td>0</td>\n",
       "      <td>0</td>\n",
       "      <td>0.0</td>\n",
       "      <td>0.0</td>\n",
       "      <td>0.0</td>\n",
       "      <td>0.0</td>\n",
       "      <td>0.0</td>\n",
       "      <td>0.0</td>\n",
       "      <td>1.0</td>\n",
       "      <td>0.0</td>\n",
       "      <td>0.0</td>\n",
       "      <td>0.0</td>\n",
       "      <td>0.0</td>\n",
       "      <td>0.0</td>\n",
       "      <td>0.0</td>\n",
       "      <td>0.0</td>\n",
       "      <td>0.0</td>\n",
       "      <td>0.0</td>\n",
       "      <td>0.0</td>\n",
       "      <td>0.0</td>\n",
       "      <td>0.0</td>\n",
       "      <td>0.0</td>\n",
       "      <td>0.0</td>\n",
       "      <td>0.0</td>\n",
       "      <td>0.0</td>\n",
       "      <td>0.0</td>\n",
       "      <td>0.0</td>\n",
       "      <td>0.0</td>\n",
       "      <td>0.0</td>\n",
       "      <td>0.0</td>\n",
       "      <td>0.0</td>\n",
       "      <td>0.0</td>\n",
       "      <td>0.0</td>\n",
       "      <td>0.0</td>\n",
       "      <td>0.0</td>\n",
       "      <td>0.0</td>\n",
       "      <td>0.0</td>\n",
       "      <td>0.0</td>\n",
       "      <td>0.0</td>\n",
       "      <td>0.0</td>\n",
       "      <td>0.0</td>\n",
       "      <td>0.0</td>\n",
       "    </tr>\n",
       "    <tr>\n",
       "      <th>4</th>\n",
       "      <td>11420</td>\n",
       "      <td>2170</td>\n",
       "      <td>108819032</td>\n",
       "      <td>235</td>\n",
       "      <td>8810</td>\n",
       "      <td>1211</td>\n",
       "      <td>0</td>\n",
       "      <td>0</td>\n",
       "      <td>0.0</td>\n",
       "      <td>0.0</td>\n",
       "      <td>0.0</td>\n",
       "      <td>0.0</td>\n",
       "      <td>0.0</td>\n",
       "      <td>0.0</td>\n",
       "      <td>1.0</td>\n",
       "      <td>0.0</td>\n",
       "      <td>0.0</td>\n",
       "      <td>0.0</td>\n",
       "      <td>0.0</td>\n",
       "      <td>0.0</td>\n",
       "      <td>0.0</td>\n",
       "      <td>0.0</td>\n",
       "      <td>0.0</td>\n",
       "      <td>0.0</td>\n",
       "      <td>0.0</td>\n",
       "      <td>0.0</td>\n",
       "      <td>0.0</td>\n",
       "      <td>0.0</td>\n",
       "      <td>0.0</td>\n",
       "      <td>0.0</td>\n",
       "      <td>0.0</td>\n",
       "      <td>0.0</td>\n",
       "      <td>0.0</td>\n",
       "      <td>0.0</td>\n",
       "      <td>0.0</td>\n",
       "      <td>0.0</td>\n",
       "      <td>0.0</td>\n",
       "      <td>0.0</td>\n",
       "      <td>0.0</td>\n",
       "      <td>0.0</td>\n",
       "      <td>0.0</td>\n",
       "      <td>0.0</td>\n",
       "      <td>0.0</td>\n",
       "      <td>0.0</td>\n",
       "      <td>0.0</td>\n",
       "      <td>0.0</td>\n",
       "      <td>0.0</td>\n",
       "      <td>0.0</td>\n",
       "    </tr>\n",
       "  </tbody>\n",
       "</table>\n",
       "</div>"
      ],
      "text/plain": [
       "   Tweets  Media  Followers  Following  nlikes  nretweets  Image  Video  \\\n",
       "0    1770    461   20854298         16       0        232      0      0   \n",
       "1   11420   2170  108819032        235    5266        408      1      1   \n",
       "2   11420   2170  108819032        235       0        764      0      0   \n",
       "3   11420   2170  108819032        235    5638        438      0      0   \n",
       "4   11420   2170  108819032        235    8810       1211      0      0   \n",
       "\n",
       "   language_ar  language_ca  language_cs  language_cy  language_da  \\\n",
       "0          0.0          0.0          0.0          0.0          0.0   \n",
       "1          0.0          0.0          0.0          0.0          0.0   \n",
       "2          0.0          0.0          0.0          0.0          0.0   \n",
       "3          0.0          0.0          0.0          0.0          0.0   \n",
       "4          0.0          0.0          0.0          0.0          0.0   \n",
       "\n",
       "   language_de  language_en  language_es  language_et  language_eu  \\\n",
       "0          0.0          1.0          0.0          0.0          0.0   \n",
       "1          0.0          1.0          0.0          0.0          0.0   \n",
       "2          0.0          1.0          0.0          0.0          0.0   \n",
       "3          0.0          1.0          0.0          0.0          0.0   \n",
       "4          0.0          1.0          0.0          0.0          0.0   \n",
       "\n",
       "   language_fa  language_fi  language_fr  language_hi  language_ht  \\\n",
       "0          0.0          0.0          0.0          0.0          0.0   \n",
       "1          0.0          0.0          0.0          0.0          0.0   \n",
       "2          0.0          0.0          0.0          0.0          0.0   \n",
       "3          0.0          0.0          0.0          0.0          0.0   \n",
       "4          0.0          0.0          0.0          0.0          0.0   \n",
       "\n",
       "   language_hu  language_in  language_is  language_it  language_iw  \\\n",
       "0          0.0          0.0          0.0          0.0          0.0   \n",
       "1          0.0          0.0          0.0          0.0          0.0   \n",
       "2          0.0          0.0          0.0          0.0          0.0   \n",
       "3          0.0          0.0          0.0          0.0          0.0   \n",
       "4          0.0          0.0          0.0          0.0          0.0   \n",
       "\n",
       "   language_ja  language_ko  language_lt  language_lv  language_mr  \\\n",
       "0          0.0          0.0          0.0          0.0          0.0   \n",
       "1          0.0          0.0          0.0          0.0          0.0   \n",
       "2          0.0          0.0          0.0          0.0          0.0   \n",
       "3          0.0          0.0          0.0          0.0          0.0   \n",
       "4          0.0          0.0          0.0          0.0          0.0   \n",
       "\n",
       "   language_nl  language_no  language_pl  language_pt  language_ro  \\\n",
       "0          0.0          0.0          0.0          0.0          0.0   \n",
       "1          0.0          0.0          0.0          0.0          0.0   \n",
       "2          0.0          0.0          0.0          0.0          0.0   \n",
       "3          0.0          0.0          0.0          0.0          0.0   \n",
       "4          0.0          0.0          0.0          0.0          0.0   \n",
       "\n",
       "   language_ru  language_sv  language_ta  language_th  language_tl  \\\n",
       "0          0.0          0.0          0.0          0.0          0.0   \n",
       "1          0.0          0.0          0.0          0.0          0.0   \n",
       "2          0.0          0.0          0.0          0.0          0.0   \n",
       "3          0.0          0.0          0.0          0.0          0.0   \n",
       "4          0.0          0.0          0.0          0.0          0.0   \n",
       "\n",
       "   language_tr  language_und  language_ur  language_vi  language_zh  \n",
       "0          0.0           0.0          0.0          0.0          0.0  \n",
       "1          0.0           0.0          0.0          0.0          0.0  \n",
       "2          0.0           0.0          0.0          0.0          0.0  \n",
       "3          0.0           0.0          0.0          0.0          0.0  \n",
       "4          0.0           0.0          0.0          0.0          0.0  "
      ]
     },
     "execution_count": 82,
     "metadata": {},
     "output_type": "execute_result"
    }
   ],
   "source": [
    "from sklearn.preprocessing import OneHotEncoder\n",
    "enc_ohe = OneHotEncoder(sparse=False)\n",
    "enc_ohe.fit(df2[['language']])\n",
    "\n",
    "data_encoder = enc_ohe.transform(df2[['language']])\n",
    "\n",
    "feature_names = enc_ohe.get_feature_names(input_features=['language'])\n",
    "df2_encoder = pd.DataFrame(data_encoder, columns = list(feature_names))\n",
    "\n",
    "df2 = df2.join(df2_encoder)\n",
    "df2.drop(columns =['language'], inplace = True)\n",
    "\n",
    "df2.head()"
   ]
  },
  {
   "cell_type": "code",
   "execution_count": 83,
   "metadata": {},
   "outputs": [],
   "source": [
    "df2['target'] = (df2.nlikes + df2.nretweets)"
   ]
  },
  {
   "cell_type": "markdown",
   "metadata": {},
   "source": [
    "-   Quantiles para la creación del corte del target"
   ]
  },
  {
   "cell_type": "code",
   "execution_count": 85,
   "metadata": {},
   "outputs": [
    {
     "name": "stdout",
     "output_type": "stream",
     "text": [
      "0.70      227.00\n",
      "0.88     1438.00\n",
      "0.97    10856.28\n",
      "Name: target, dtype: float64\n"
     ]
    }
   ],
   "source": [
    "print(df2['target'].quantile([0.7,0.88,0.97]))"
   ]
  },
  {
   "cell_type": "markdown",
   "metadata": {},
   "source": [
    "-   Se selecciona el target de esta manera ya que desde mi perspectiva para que un tweet sea popular hay que basarse en el número de likes y retweets que este tenga, entonces si una cuenta tiene tweets con muchos likes y retweets seguramente al subir otro tweet este será popular."
   ]
  },
  {
   "cell_type": "code",
   "execution_count": 86,
   "metadata": {},
   "outputs": [],
   "source": [
    "df2['target'] = df2['target'].map(lambda x: 1 if x > 35000 else 0)"
   ]
  },
  {
   "cell_type": "markdown",
   "metadata": {},
   "source": [
    "-   DataFrame utilizado en el apartado de Conclusión"
   ]
  },
  {
   "cell_type": "code",
   "execution_count": 87,
   "metadata": {},
   "outputs": [],
   "source": [
    "if_df = df2.copy(deep=True)"
   ]
  },
  {
   "cell_type": "code",
   "execution_count": 88,
   "metadata": {},
   "outputs": [],
   "source": [
    "df2.drop(columns=['nlikes', 'nretweets'], inplace=True)"
   ]
  },
  {
   "cell_type": "markdown",
   "metadata": {},
   "source": [
    "# Separación datos"
   ]
  },
  {
   "cell_type": "code",
   "execution_count": 89,
   "metadata": {},
   "outputs": [],
   "source": [
    "y = df2.target\n",
    "X = df2.drop(columns = ['target'])\n",
    "\n",
    "X_train, X_test, y_train, y_test = train_test_split(X, y, test_size=0.3)"
   ]
  },
  {
   "cell_type": "markdown",
   "metadata": {},
   "source": [
    "-   Para el entrenamiento del modelo empleo regresión logistica debido a que para solucionar problemas de classificación binaria me parece la opción más acertada.\n",
    "*   Al añadir el asset (class_weight)  en el modelo con el valor 'balanced' cambia los pesos para penalizar los fallos."
   ]
  },
  {
   "cell_type": "code",
   "execution_count": 91,
   "metadata": {},
   "outputs": [],
   "source": [
    "y = y_train\n",
    "X = X_train\n",
    "\n",
    "model = LogisticRegression(class_weight='balanced') # Elegir el modelo\n",
    "model.fit(X, y) # Entrenar el modelo\n",
    "\n",
    "predictions = model.predict(X_test) # Predecir con el modelo\n",
    "probability = model.predict_proba(X_test)\n",
    "\n",
    "res = pd.DataFrame()\n",
    "\n",
    "# Miramos a ver qué tal...\n",
    "res['predictions'] = predictions\n",
    "res['NoPopular'] = probability[:, 0] \n",
    "res['Popular'] = probability[:, 1] \n",
    "res['correct'] = (y_test.values == res.predictions)\n"
   ]
  },
  {
   "cell_type": "code",
   "execution_count": 92,
   "metadata": {},
   "outputs": [],
   "source": [
    "from sklearn.metrics import confusion_matrix"
   ]
  },
  {
   "cell_type": "code",
   "execution_count": 93,
   "metadata": {},
   "outputs": [
    {
     "name": "stdout",
     "output_type": "stream",
     "text": [
      "        predictions\n",
      "count  12261.000000\n",
      "mean       0.171601\n",
      "std        0.377049\n",
      "min        0.000000\n",
      "25%        0.000000\n",
      "50%        0.000000\n",
      "75%        0.000000\n",
      "max        1.000000\n"
     ]
    }
   ],
   "source": [
    "print(res[['predictions', 'correct']].describe())"
   ]
  },
  {
   "cell_type": "code",
   "execution_count": 94,
   "metadata": {},
   "outputs": [
    {
     "name": "stdout",
     "output_type": "stream",
     "text": [
      "0.8294763336363\n"
     ]
    }
   ],
   "source": [
    "score = model.score(X_train, y_train)\n",
    "print(score)"
   ]
  },
  {
   "cell_type": "code",
   "execution_count": 95,
   "metadata": {},
   "outputs": [],
   "source": [
    "resto = pd.DataFrame({\n",
    "    'y' : y_test.values,\n",
    "    'res' : res.predictions\n",
    "})"
   ]
  },
  {
   "cell_type": "markdown",
   "metadata": {},
   "source": [
    "*   Al aplicar la matriz de confusión al resultado de las predicciones junto con y_true aparece que hay una gran mayoría de Verdaderos Negativos '10271', una pequeña cantidad de Falsos Negativos '14' comparado con el total de filas que hay 'y_test.size', también los Verdaderos Positivos son pocos '93' esto debido a que a la hora de crear el target la cantidad de tweets populares que rebasarían esa franja son pocos, esto lo muestro en la celda que aparecen los cuantiles previa a la creación del Objetivo."
   ]
  },
  {
   "cell_type": "code",
   "execution_count": 97,
   "metadata": {},
   "outputs": [
    {
     "data": {
      "text/plain": [
       "array([[10149,  2002],\n",
       "       [    8,   102]], dtype=int64)"
      ]
     },
     "execution_count": 97,
     "metadata": {},
     "output_type": "execute_result"
    }
   ],
   "source": [
    "confusion_matrix(resto['y'],resto.res)"
   ]
  },
  {
   "cell_type": "code",
   "execution_count": 99,
   "metadata": {},
   "outputs": [
    {
     "data": {
      "text/plain": [
       "True     10251\n",
       "False     2010\n",
       "Name: correct, dtype: int64"
      ]
     },
     "execution_count": 99,
     "metadata": {},
     "output_type": "execute_result"
    }
   ],
   "source": [
    "res.correct.value_counts()"
   ]
  },
  {
   "cell_type": "code",
   "execution_count": 100,
   "metadata": {},
   "outputs": [
    {
     "data": {
      "text/plain": [
       "y  res\n",
       "0  0      0.835240\n",
       "   1      0.164760\n",
       "1  0      0.072727\n",
       "   1      0.927273\n",
       "Name: res, dtype: float64"
      ]
     },
     "execution_count": 100,
     "metadata": {},
     "output_type": "execute_result"
    }
   ],
   "source": [
    "resto.groupby('y').res.value_counts(normalize = True).sort_index()"
   ]
  },
  {
   "cell_type": "code",
   "execution_count": 101,
   "metadata": {},
   "outputs": [
    {
     "name": "stdout",
     "output_type": "stream",
     "text": [
      "0.8294763336363\n"
     ]
    }
   ],
   "source": [
    "print(score)"
   ]
  },
  {
   "cell_type": "code",
   "execution_count": 133,
   "metadata": {},
   "outputs": [
    {
     "data": {
      "text/plain": [
       "0.9265818332624638"
      ]
     },
     "execution_count": 133,
     "metadata": {},
     "output_type": "execute_result"
    }
   ],
   "source": [
    "roc_auc_score(y, model.decision_function(X))"
   ]
  },
  {
   "cell_type": "code",
   "execution_count": 132,
   "metadata": {},
   "outputs": [
    {
     "data": {
      "text/plain": [
       "0.9265818332624638"
      ]
     },
     "execution_count": 132,
     "metadata": {},
     "output_type": "execute_result"
    }
   ],
   "source": [
    "roc_auc_score(y, model.predict_proba(X)[:, 1])"
   ]
  },
  {
   "cell_type": "code",
   "execution_count": 130,
   "metadata": {},
   "outputs": [
    {
     "name": "stderr",
     "output_type": "stream",
     "text": [
      "c:\\Users\\hecto\\anaconda3\\lib\\site-packages\\sklearn\\utils\\deprecation.py:87: FutureWarning: Function plot_roc_curve is deprecated; Function :func:`plot_roc_curve` is deprecated in 1.0 and will be removed in 1.2. Use one of the class methods: :meth:`sklearn.metric.RocCurveDisplay.from_predictions` or :meth:`sklearn.metric.RocCurveDisplay.from_estimator`.\n"
     ]
    },
    {
     "data": {
      "text/plain": [
       "<sklearn.metrics._plot.roc_curve.RocCurveDisplay at 0x2608baa76a0>"
      ]
     },
     "execution_count": 130,
     "metadata": {},
     "output_type": "execute_result"
    },
    {
     "data": {
      "image/png": "[encoded data removed]",
      "text/plain": [
       "<Figure size 432x288 with 1 Axes>"
      ]
     },
     "metadata": {
      "needs_background": "light"
     },
     "output_type": "display_data"
    }
   ],
   "source": [
    "metrics.plot_roc_curve(model, X_test, y_test) "
   ]
  },
  {
   "cell_type": "markdown",
   "metadata": {},
   "source": [
    "# RandomForest"
   ]
  },
  {
   "cell_type": "code",
   "execution_count": 105,
   "metadata": {},
   "outputs": [],
   "source": [
    "import sklearn\n",
    "from sklearn.ensemble import RandomForestClassifier"
   ]
  },
  {
   "cell_type": "code",
   "execution_count": 106,
   "metadata": {},
   "outputs": [
    {
     "name": "stdout",
     "output_type": "stream",
     "text": [
      "{'max_depth': 20, 'n_estimators': 250}\n"
     ]
    }
   ],
   "source": [
    "grid = {\n",
    "    'n_estimators' : [250, 1000, 2000],\n",
    "    'max_depth' : [None, 10, 20]\n",
    "}\n",
    "\n",
    "optimized_pipeline = sklearn.model_selection.GridSearchCV(RandomForestClassifier(random_state=0, class_weight='balanced'), grid)\n",
    "\n",
    "optimized_pipeline.fit(X_train, y_train)\n",
    "\n",
    "print(optimized_pipeline.best_params_)\n",
    "\n",
    "predictions = optimized_pipeline.predict(X_test)\n",
    "\n",
    "proba = optimized_pipeline.predict_proba(X_test)[:,1]"
   ]
  },
  {
   "cell_type": "markdown",
   "metadata": {},
   "source": [
    "-   En el gráfico \"roc_curve\" muestra un ratio casi perfecto por culpa de la falta de datos, por lo que se produce overfitting."
   ]
  },
  {
   "cell_type": "code",
   "execution_count": 131,
   "metadata": {},
   "outputs": [
    {
     "name": "stderr",
     "output_type": "stream",
     "text": [
      "c:\\Users\\hecto\\anaconda3\\lib\\site-packages\\sklearn\\utils\\deprecation.py:87: FutureWarning: Function plot_roc_curve is deprecated; Function :func:`plot_roc_curve` is deprecated in 1.0 and will be removed in 1.2. Use one of the class methods: :meth:`sklearn.metric.RocCurveDisplay.from_predictions` or :meth:`sklearn.metric.RocCurveDisplay.from_estimator`.\n"
     ]
    },
    {
     "data": {
      "text/plain": [
       "<sklearn.metrics._plot.roc_curve.RocCurveDisplay at 0x26088ca4940>"
      ]
     },
     "execution_count": 131,
     "metadata": {},
     "output_type": "execute_result"
    },
    {
     "data": {
      "image/png": "[encoded data removed]",
      "text/plain": [
       "<Figure size 432x288 with 1 Axes>"
      ]
     },
     "metadata": {
      "needs_background": "light"
     },
     "output_type": "display_data"
    }
   ],
   "source": [
    "metrics.plot_roc_curve(optimized_pipeline, X_test, y_test) "
   ]
  },
  {
   "cell_type": "code",
   "execution_count": 108,
   "metadata": {},
   "outputs": [
    {
     "name": "stdout",
     "output_type": "stream",
     "text": [
      "0.969656715374397\n"
     ]
    }
   ],
   "source": [
    "sc = optimized_pipeline.score(X_train, y_train)\n",
    "print(sc)"
   ]
  },
  {
   "cell_type": "code",
   "execution_count": 121,
   "metadata": {},
   "outputs": [],
   "source": [
    "rest = pd.DataFrame({\n",
    "    'pred' : predictions,\n",
    "    'Y' : y_test.values\n",
    "})"
   ]
  },
  {
   "cell_type": "code",
   "execution_count": 112,
   "metadata": {},
   "outputs": [
    {
     "data": {
      "text/plain": [
       "array([[11789,   362],\n",
       "       [   44,    66]], dtype=int64)"
      ]
     },
     "execution_count": 112,
     "metadata": {},
     "output_type": "execute_result"
    }
   ],
   "source": [
    "confusion_matrix(res['Y'],res.pred)"
   ]
  },
  {
   "cell_type": "code",
   "execution_count": 114,
   "metadata": {},
   "outputs": [
    {
     "data": {
      "text/plain": [
       "0    11833\n",
       "1      428\n",
       "Name: pred, dtype: int64"
      ]
     },
     "execution_count": 114,
     "metadata": {},
     "output_type": "execute_result"
    }
   ],
   "source": [
    "res.pred.value_counts()"
   ]
  },
  {
   "cell_type": "code",
   "execution_count": 140,
   "metadata": {},
   "outputs": [
    {
     "data": {
      "text/plain": [
       "{'mean_fit_time': array([ 3.21047106, 11.68834939, 23.15005698,  2.0980185 ,  8.31842127,\n",
       "        16.62373171,  2.34624653,  9.98977232, 19.2503336 ]),\n",
       " 'std_fit_time': array([0.09503488, 0.57188451, 1.40515417, 0.02401677, 0.0833864 ,\n",
       "        0.37283885, 0.04455153, 0.87734546, 0.28898728]),\n",
       " 'mean_score_time': array([0.19813151, 0.72437706, 1.38057232, 0.12221055, 0.4651484 ,\n",
       "        0.94140272, 0.1381701 , 0.56642771, 1.10357542]),\n",
       " 'std_score_time': array([0.02071888, 0.0517812 , 0.16581076, 0.00771252, 0.00504127,\n",
       "        0.02666827, 0.0018619 , 0.02533129, 0.0225726 ]),\n",
       " 'param_max_depth': masked_array(data=[None, None, None, 10, 10, 10, 20, 20, 20],\n",
       "              mask=[False, False, False, False, False, False, False, False,\n",
       "                    False],\n",
       "        fill_value='?',\n",
       "             dtype=object),\n",
       " 'param_n_estimators': masked_array(data=[250, 1000, 2000, 250, 1000, 2000, 250, 1000, 2000],\n",
       "              mask=[False, False, False, False, False, False, False, False,\n",
       "                    False],\n",
       "        fill_value='?',\n",
       "             dtype=object),\n",
       " 'params': [{'max_depth': None, 'n_estimators': 250},\n",
       "  {'max_depth': None, 'n_estimators': 1000},\n",
       "  {'max_depth': None, 'n_estimators': 2000},\n",
       "  {'max_depth': 10, 'n_estimators': 250},\n",
       "  {'max_depth': 10, 'n_estimators': 1000},\n",
       "  {'max_depth': 10, 'n_estimators': 2000},\n",
       "  {'max_depth': 20, 'n_estimators': 250},\n",
       "  {'max_depth': 20, 'n_estimators': 1000},\n",
       "  {'max_depth': 20, 'n_estimators': 2000}],\n",
       " 'split0_test_score': array([0.96312478, 0.96242573, 0.96469766, 0.9416288 , 0.94337644,\n",
       "        0.94110451, 0.96434813, 0.96242573, 0.96452289]),\n",
       " 'split1_test_score': array([0.97220766, 0.96888656, 0.96906135, 0.94266737, 0.9416186 ,\n",
       "        0.94126901, 0.97220766, 0.96888656, 0.96888656]),\n",
       " 'split2_test_score': array([0.95857368, 0.95857368, 0.9611956 , 0.94441531, 0.9449397 ,\n",
       "        0.94563887, 0.96259395, 0.9611956 , 0.9611956 ]),\n",
       " 'split3_test_score': array([0.96678902, 0.96678902, 0.96678902, 0.9382975 , 0.93917147,\n",
       "        0.93619997, 0.96661423, 0.96678902, 0.96678902]),\n",
       " 'split4_test_score': array([0.96801259, 0.96696382, 0.96696382, 0.93917147, 0.94074463,\n",
       "        0.94214298, 0.96783779, 0.96678902, 0.96678902]),\n",
       " 'mean_test_score': array([0.96574154, 0.96472776, 0.96574149, 0.94123609, 0.94197017,\n",
       "        0.94127107, 0.96672035, 0.96521718, 0.96563662]),\n",
       " 'std_test_score': array([0.00461067, 0.00373407, 0.00265961, 0.00224536, 0.00201266,\n",
       "        0.00301933, 0.0032871 , 0.00291105, 0.00261462]),\n",
       " 'rank_test_score': array([2, 6, 3, 9, 7, 8, 1, 5, 4])}"
      ]
     },
     "execution_count": 140,
     "metadata": {},
     "output_type": "execute_result"
    }
   ],
   "source": [
    "optimized_pipeline.cv_results_"
   ]
  },
  {
   "cell_type": "markdown",
   "metadata": {},
   "source": [
    "# Conclusión"
   ]
  },
  {
   "cell_type": "markdown",
   "metadata": {},
   "source": [
    "-   Teniendo en cuenta que en la prediccion del if es el computo global de datos y en el de los modelos es una tercera parte de los datos se aprecia claramente que tomando como referencia la suma de likes y retweets este problema de classificación binaria se podria proceder de manera mucho más sencilla aunque no más precisa, ahorrando mucho tiempo y código con este método propuesto."
   ]
  },
  {
   "cell_type": "code",
   "execution_count": null,
   "metadata": {},
   "outputs": [],
   "source": [
    "if_df['target'] = (if_df.nlikes + if_df.nretweets)\n",
    "if_df['target'] = if_df['target'].apply(lambda x : 1 if x > 35000 else 0)"
   ]
  },
  {
   "cell_type": "code",
   "execution_count": 138,
   "metadata": {},
   "outputs": [
    {
     "name": "stdout",
     "output_type": "stream",
     "text": [
      "Logistic Regression predictions: \n",
      "0    12151\n",
      "1      110\n",
      "Name: y, dtype: int64\n",
      " Random Forest prediction: \n",
      "0    12151\n",
      "1      110\n",
      "Name: Y, dtype: int64\n",
      " If \"Predictions\": \n",
      "0    40522\n",
      "1      345\n",
      "Name: target, dtype: int64\n",
      " \n"
     ]
    }
   ],
   "source": [
    "print(f'Logistic Regression predictions: \\n{resto.y.value_counts()}\\n Random Forest prediction: \\n{rest.Y.value_counts()}\\n If \"Predictions\": \\n{if_df.target.value_counts()}\\n ')\n"
   ]
  }
 ],
 "metadata": {
  "kernelspec": {
   "display_name": "Python 3",
   "language": "python",
   "name": "python3"
  },
  "language_info": {
   "codemirror_mode": {
    "name": "ipython",
    "version": 3
   },
   "file_extension": ".py",
   "mimetype": "text/x-python",
   "name": "python",
   "nbconvert_exporter": "python",
   "pygments_lexer": "ipython3",
   "version": "3.7.9 (tags/v3.7.9:13c94747c7, Aug 17 2020, 18:58:18) [MSC v.1900 64 bit (AMD64)]"
  },
  "orig_nbformat": 4,
  "vscode": {
   "interpreter": {
    "hash": "98f313b375bd142157bd85247f9cae0a692e725b9cc4cd8be55ca840b47a019b"
   }
  }
 },
 "nbformat": 4,
 "nbformat_minor": 2
}
